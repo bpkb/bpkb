{
  "nbformat": 4,
  "nbformat_minor": 0,
  "metadata": {
    "colab": {
      "name": "elpp-jaffe+with reconstruction.ipynb",
      "provenance": []
    },
    "kernelspec": {
      "name": "python3",
      "display_name": "Python 3"
    },
    "accelerator": "GPU"
  },
  "cells": [
    {
      "cell_type": "code",
      "metadata": {
        "id": "zfX5H7bpJ5iP",
        "colab": {
          "base_uri": "https://localhost:8080/",
          "height": 34
        },
        "outputId": "d57787a1-db05-4768-ef24-2c693d00eb69"
      },
      "source": [
        "from google.colab import drive\n",
        "drive.mount('/content/drive')"
      ],
      "execution_count": null,
      "outputs": [
        {
          "output_type": "stream",
          "text": [
            "Drive already mounted at /content/drive; to attempt to forcibly remount, call drive.mount(\"/content/drive\", force_remount=True).\n"
          ],
          "name": "stdout"
        }
      ]
    },
    {
      "cell_type": "code",
      "metadata": {
        "id": "u_QFuAiCKA4P"
      },
      "source": [
        "import numpy as np\n",
        "from scipy.io import loadmat  # this is the SciPy module that loads mat-files\n",
        "import matplotlib.pyplot as plt\n",
        "from datetime import datetime, date, time\n",
        "from sklearn.preprocessing import StandardScaler\n",
        "from sklearn.model_selection import train_test_split\n",
        "from sklearn.decomposition import PCA\n",
        "import pandas as pd\n",
        "from sklearn.neighbors import NearestNeighbors\n",
        "from scipy import linalg\n",
        "from sklearn.utils import check_array\n",
        "from sklearn.neighbors import kneighbors_graph, NearestNeighbors\n",
        "from sklearn.cluster import KMeans\n"
      ],
      "execution_count": null,
      "outputs": []
    },
    {
      "cell_type": "code",
      "metadata": {
        "id": "smcLUSZCKiP-"
      },
      "source": [
        "mat = loadmat('drive/My Drive/thesis/jaffefull_with_label.mat')"
      ],
      "execution_count": null,
      "outputs": []
    },
    {
      "cell_type": "code",
      "metadata": {
        "id": "VU5M5r3relrx"
      },
      "source": [
        "mat1=loadmat('drive/My Drive/thesis/dataset/100resize jaffe.mat')"
      ],
      "execution_count": null,
      "outputs": []
    },
    {
      "cell_type": "code",
      "metadata": {
        "id": "EVjbXjJVerAu",
        "colab": {
          "base_uri": "https://localhost:8080/",
          "height": 941
        },
        "outputId": "8f4b02bd-9127-4a1e-fb30-75542ca13b4b"
      },
      "source": [
        "mat1"
      ],
      "execution_count": null,
      "outputs": [
        {
          "output_type": "execute_result",
          "data": {
            "text/plain": [
              "{'__globals__': [],\n",
              " '__header__': b'MATLAB 5.0 MAT-file, Platform: GLNXA64, Created on: Mon Apr 29 10:11:14 2019',\n",
              " '__version__': '1.0',\n",
              " 'temp6': array([[[105, 112, 102, ..., 165, 151, 159],\n",
              "         [113, 115, 106, ..., 167, 152, 166],\n",
              "         [115, 114, 106, ..., 170, 153, 166],\n",
              "         ...,\n",
              "         [138, 133, 127, ..., 202, 187, 199],\n",
              "         [137, 129, 125, ..., 202, 181, 201],\n",
              "         [133, 126, 126, ..., 205, 188, 201]],\n",
              " \n",
              "        [[106, 114, 104, ..., 171, 150, 162],\n",
              "         [114, 113, 107, ..., 169, 150, 162],\n",
              "         [115, 112, 108, ..., 171, 155, 164],\n",
              "         ...,\n",
              "         [134, 130, 125, ..., 201, 188, 201],\n",
              "         [132, 131, 123, ..., 204, 186, 199],\n",
              "         [134, 126, 125, ..., 208, 185, 201]],\n",
              " \n",
              "        [[104, 114, 104, ..., 172, 153, 159],\n",
              "         [108, 114, 109, ..., 174, 153, 162],\n",
              "         [118, 117, 109, ..., 174, 155, 160],\n",
              "         ...,\n",
              "         [136, 130, 129, ..., 200, 195, 200],\n",
              "         [134, 130, 127, ..., 203, 194, 197],\n",
              "         [135, 130, 126, ..., 203, 186, 200]],\n",
              " \n",
              "        ...,\n",
              " \n",
              "        [[ 76,  55,  70, ..., 102,  85, 100],\n",
              "         [ 69,  56,  68, ...,  96,  85,  98],\n",
              "         [ 65,  68,  66, ...,  91,  81,  93],\n",
              "         ...,\n",
              "         [138, 125, 124, ..., 159, 144, 159],\n",
              "         [141, 124, 122, ..., 166, 150, 161],\n",
              "         [138, 126, 124, ..., 175, 158, 165]],\n",
              " \n",
              "        [[ 66,  60,  62, ..., 100,  84, 102],\n",
              "         [ 63,  68,  58, ...,  95,  82, 101],\n",
              "         [ 63,  82,  58, ...,  93,  82,  95],\n",
              "         ...,\n",
              "         [129, 115, 124, ..., 158, 146, 156],\n",
              "         [135, 118, 123, ..., 159, 148, 158],\n",
              "         [137, 117, 121, ..., 162, 147, 160]],\n",
              " \n",
              "        [[ 57,  71,  56, ..., 101,  82, 102],\n",
              "         [ 56,  79,  58, ...,  99,  84, 100],\n",
              "         [ 58,  83,  56, ...,  94,  81,  94],\n",
              "         ...,\n",
              "         [115, 101, 120, ..., 153, 149, 162],\n",
              "         [119, 107, 123, ..., 153, 145, 154],\n",
              "         [124, 108, 121, ..., 157, 144, 158]]], dtype=uint8)}"
            ]
          },
          "metadata": {
            "tags": []
          },
          "execution_count": 36
        }
      ]
    },
    {
      "cell_type": "code",
      "metadata": {
        "id": "Qc-L-N8kKroc",
        "colab": {
          "base_uri": "https://localhost:8080/",
          "height": 1118
        },
        "outputId": "2c1b3987-739f-4a2f-eec0-10b714b6d3e6"
      },
      "source": [
        "mat"
      ],
      "execution_count": null,
      "outputs": [
        {
          "output_type": "execute_result",
          "data": {
            "text/plain": [
              "{'Label': array([[1, 1, 1, 2, 2, 2, 3, 3, 3, 3, 4, 4, 4, 4, 5, 5, 5, 6, 6, 6, 7, 7,\n",
              "         7, 1, 1, 1, 2, 2, 2, 2, 3, 3, 3, 4, 4, 4, 5, 5, 5, 6, 6, 6, 7, 7,\n",
              "         7, 1, 1, 1, 2, 2, 3, 3, 3, 4, 4, 4, 4, 5, 5, 5, 6, 6, 6, 6, 7, 7,\n",
              "         7, 1, 1, 1, 2, 2, 2, 3, 3, 3, 4, 4, 5, 5, 5, 6, 6, 6, 7, 7, 7, 1,\n",
              "         1, 1, 2, 2, 2, 3, 3, 3, 4, 4, 4, 5, 5, 5, 6, 6, 6, 7, 7, 7, 1, 1,\n",
              "         1, 2, 2, 2, 3, 3, 3, 4, 4, 4, 5, 5, 5, 6, 6, 6, 7, 7, 7, 1, 1, 1,\n",
              "         2, 2, 3, 3, 3, 4, 4, 4, 5, 5, 5, 6, 6, 6, 7, 7, 7, 1, 1, 1, 2, 2,\n",
              "         2, 3, 3, 3, 4, 4, 4, 5, 5, 5, 6, 6, 6, 7, 7, 7, 1, 1, 1, 2, 2, 2,\n",
              "         3, 3, 3, 4, 4, 4, 5, 5, 5, 6, 6, 6, 7, 7, 7, 1, 1, 1, 2, 2, 2, 3,\n",
              "         3, 3, 3, 4, 4, 4, 5, 5, 5, 6, 6, 6, 7, 7, 7]], dtype=uint8),\n",
              " '__globals__': [],\n",
              " '__header__': b'MATLAB 5.0 MAT-file, Platform: MACI64, Created on: Tue Feb 20 15:01:08 2018',\n",
              " '__version__': '1.0',\n",
              " 'out': array([[[105, 114,  96, ..., 166, 143, 157],\n",
              "         [102, 115,  98, ..., 165, 155, 151],\n",
              "         [108, 116, 114, ..., 161, 161, 162],\n",
              "         ...,\n",
              "         [126, 127, 126, ..., 199, 183, 194],\n",
              "         [136, 133, 127, ..., 206, 189, 204],\n",
              "         [132, 126, 127, ..., 207, 189, 196]],\n",
              " \n",
              "        [[102, 111, 103, ..., 166, 149, 163],\n",
              "         [107, 107, 105, ..., 162, 154, 162],\n",
              "         [110, 105, 102, ..., 165, 144, 165],\n",
              "         ...,\n",
              "         [132, 118, 129, ..., 205, 178, 199],\n",
              "         [134, 131, 130, ..., 206, 191, 206],\n",
              "         [133, 119, 119, ..., 200, 194, 203]],\n",
              " \n",
              "        [[ 99, 110, 104, ..., 174, 155, 157],\n",
              "         [106, 117, 105, ..., 165, 149, 159],\n",
              "         [112, 112, 104, ..., 174, 153, 159],\n",
              "         ...,\n",
              "         [132, 134, 125, ..., 203, 173, 202],\n",
              "         [137, 128, 129, ..., 211, 190, 193],\n",
              "         [134, 129, 121, ..., 204, 185, 202]],\n",
              " \n",
              "        ...,\n",
              " \n",
              "        [[ 63,  62,  58, ..., 108,  86, 103],\n",
              "         [ 61,  66,  55, ...,  90,  83,  96],\n",
              "         [ 58,  73,  55, ...,  98,  85, 108],\n",
              "         ...,\n",
              "         [126, 102, 115, ..., 158, 149, 154],\n",
              "         [129, 114, 125, ..., 157, 140, 153],\n",
              "         [138, 112, 125, ..., 166, 146, 149]],\n",
              " \n",
              "        [[ 59,  68,  59, ...,  99,  86, 101],\n",
              "         [ 63,  75,  55, ..., 104,  77,  98],\n",
              "         [ 55,  79,  56, ...,  98,  89, 102],\n",
              "         ...,\n",
              "         [115, 114, 124, ..., 159, 144, 152],\n",
              "         [122, 111, 121, ..., 151, 142, 162],\n",
              "         [139, 100, 126, ..., 159, 139, 157]],\n",
              " \n",
              "        [[ 55,  70,  60, ..., 106,  79, 104],\n",
              "         [ 56,  71,  52, ...,  97,  80, 103],\n",
              "         [ 51,  77,  53, ...,  98,  85,  99],\n",
              "         ...,\n",
              "         [119, 115, 120, ..., 156, 148, 157],\n",
              "         [113, 105, 116, ..., 164, 151, 161],\n",
              "         [119, 105, 117, ..., 153, 145, 165]]], dtype=uint8)}"
            ]
          },
          "metadata": {
            "tags": []
          },
          "execution_count": 4
        }
      ]
    },
    {
      "cell_type": "code",
      "metadata": {
        "id": "_EhTFLQHKs9J",
        "colab": {
          "base_uri": "https://localhost:8080/",
          "height": 34
        },
        "outputId": "b522d2f5-dcce-4ee7-9989-832d74f92e62"
      },
      "source": [
        "x_data=mat['out']\n",
        "x_data.shape"
      ],
      "execution_count": null,
      "outputs": [
        {
          "output_type": "execute_result",
          "data": {
            "text/plain": [
              "(256, 256, 213)"
            ]
          },
          "metadata": {
            "tags": []
          },
          "execution_count": 32
        }
      ]
    },
    {
      "cell_type": "code",
      "metadata": {
        "id": "hh6RHlTNeum1"
      },
      "source": [
        "x_data1=mat1['temp6']"
      ],
      "execution_count": null,
      "outputs": []
    },
    {
      "cell_type": "code",
      "metadata": {
        "id": "tYk4i8fMe0oe",
        "colab": {
          "base_uri": "https://localhost:8080/",
          "height": 285
        },
        "outputId": "f32f98d9-b58f-48ed-998d-ac1c35da8a26"
      },
      "source": [
        "plt.imshow(x_data1[:,:,50],cmap='gray')\n",
        "plt.axis('off')"
      ],
      "execution_count": null,
      "outputs": [
        {
          "output_type": "execute_result",
          "data": {
            "text/plain": [
              "(-0.5, 99.5, 99.5, -0.5)"
            ]
          },
          "metadata": {
            "tags": []
          },
          "execution_count": 38
        },
        {
          "output_type": "display_data",
          "data": {
            "image/png": "[encoded data removed]",
            "text/plain": [
              "<Figure size 432x288 with 1 Axes>"
            ]
          },
          "metadata": {
            "tags": []
          }
        }
      ]
    },
    {
      "cell_type": "code",
      "metadata": {
        "id": "ukaDTe3Ge0k2"
      },
      "source": [
        ""
      ],
      "execution_count": null,
      "outputs": []
    },
    {
      "cell_type": "code",
      "metadata": {
        "id": "NAdeod0bVB6N",
        "colab": {
          "base_uri": "https://localhost:8080/",
          "height": 286
        },
        "outputId": "0f9d31bf-dc2c-4d9f-c21a-65cfa1ae15b2"
      },
      "source": [
        "plt.imshow(x_data[:,:,50],cmap='gray')\n",
        "plt.axis('off')"
      ],
      "execution_count": null,
      "outputs": [
        {
          "output_type": "execute_result",
          "data": {
            "text/plain": [
              "(-0.5, 255.5, 255.5, -0.5)"
            ]
          },
          "metadata": {
            "tags": []
          },
          "execution_count": 34
        },
        {
          "output_type": "display_data",
          "data": {
            "image/png": "[encoded data removed]",
            "text/plain": [
              "<Figure size 432x288 with 1 Axes>"
            ]
          },
          "metadata": {
            "tags": []
          }
        }
      ]
    },
    {
      "cell_type": "code",
      "metadata": {
        "id": "2Xo-dvmQK31_",
        "colab": {
          "base_uri": "https://localhost:8080/",
          "height": 34
        },
        "outputId": "87c025b8-15de-43c2-f9cd-066d67c9903f"
      },
      "source": [
        "y_data=mat['Label']\n",
        "y_data.shape"
      ],
      "execution_count": null,
      "outputs": [
        {
          "output_type": "execute_result",
          "data": {
            "text/plain": [
              "(1, 213)"
            ]
          },
          "metadata": {
            "tags": []
          },
          "execution_count": 8
        }
      ]
    },
    {
      "cell_type": "code",
      "metadata": {
        "id": "fr-rdYwYQiS7"
      },
      "source": [
        "# from sklearn.decomposition import PCA\n",
        "# pca = PCA(n_components=100)\n",
        "# x3_data=x_data.reshape(256*256,213)\n",
        "# x3_data=x3_data.transpose()\n",
        "\n",
        "# x_new = pca.fit_transform(x3_data)\n",
        "# x_new.shape\n",
        "# x_new5=x_new.reshape(213,10,10)\n",
        "# plt.imshow(x_new5[1,:])\n",
        "# x_new4=pca.inverse_transform(x_new)\n",
        "# print(x_new4.shape)\n",
        "# # x_new4=x_new4.reshape(213,256,256)\n",
        "# print(x_new4.shape)\n",
        "# plt.imshow(x_new4[1,:,:])"
      ],
      "execution_count": null,
      "outputs": []
    },
    {
      "cell_type": "code",
      "metadata": {
        "id": "DlAUuRRDK9yj"
      },
      "source": [
        "def findEuclideanDistance(a, b):\n",
        "    euclidean_distance = a - b\n",
        "    euclidean_distance = np.sum(np.multiply(euclidean_distance, euclidean_distance))\n",
        "    euclidean_distance = np.sqrt(euclidean_distance)\n",
        "    return euclidean_distance\n",
        "x=np.zeros((213,213))"
      ],
      "execution_count": null,
      "outputs": []
    },
    {
      "cell_type": "code",
      "metadata": {
        "id": "3B8wj4-ALG6N"
      },
      "source": [
        "for i in range(0,213):\n",
        "    for j in range(0,213):\n",
        "        x[i,j]=findEuclideanDistance(x_data1[:,:,i],x_data1[:,:,j]);"
      ],
      "execution_count": null,
      "outputs": []
    },
    {
      "cell_type": "code",
      "metadata": {
        "id": "tGZaQ8yS6llz",
        "colab": {
          "base_uri": "https://localhost:8080/",
          "height": 247
        },
        "outputId": "299c873d-2f2b-4c9f-d9bc-e24cfac034c6"
      },
      "source": [
        "x"
      ],
      "execution_count": null,
      "outputs": [
        {
          "output_type": "execute_result",
          "data": {
            "text/plain": [
              "array([[   0.        ,  858.55110506,  828.45579242, ..., 1023.46177261,\n",
              "        1024.81656895, 1037.82512978],\n",
              "       [ 858.55110506,    0.        ,  853.02344634, ..., 1013.54328965,\n",
              "         997.24771246, 1016.6174305 ],\n",
              "       [ 828.45579242,  853.02344634,    0.        , ...,  999.4283366 ,\n",
              "        1013.52257005, 1015.09900995],\n",
              "       ...,\n",
              "       [1023.46177261, 1013.54328965,  999.4283366 , ...,    0.        ,\n",
              "         915.31797754,  743.1399599 ],\n",
              "       [1024.81656895,  997.24771246, 1013.52257005, ...,  915.31797754,\n",
              "           0.        ,  784.63112352],\n",
              "       [1037.82512978, 1016.6174305 , 1015.09900995, ...,  743.1399599 ,\n",
              "         784.63112352,    0.        ]])"
            ]
          },
          "metadata": {
            "tags": []
          },
          "execution_count": 41
        }
      ]
    },
    {
      "cell_type": "code",
      "metadata": {
        "id": "vPCMg28tLOj2"
      },
      "source": [
        "k=0;\n",
        "y_data=y_data.reshape(213*1)\n",
        "x1=np.zeros((2,213,213))\n",
        "for i in range(0,213):\n",
        "    for j in range(0,213):\n",
        "        if(y_data[i]==y_data[j]):\n",
        "            x1[0,i,j]=findEuclideanDistance(x_data1[:,:,i],x_data1[:,:,j]);\n",
        "            if(x1[0,i,j]!=0):# and x1[2,i,j]!=1):\n",
        "                x1[1,i,j]=y_data[j]"
      ],
      "execution_count": null,
      "outputs": []
    },
    {
      "cell_type": "code",
      "metadata": {
        "id": "cT1WkWBmLgef"
      },
      "source": [
        "y_data=y_data.reshape(213,1) \n",
        "c=x1[0,:,:]\n",
        "d=x1[1,:,:]  "
      ],
      "execution_count": null,
      "outputs": []
    },
    {
      "cell_type": "code",
      "metadata": {
        "id": "Pksf7Zc6Lynd"
      },
      "source": [
        "c1=np.zeros(8)\n",
        "for j in range(1,8):\n",
        "    for i in range(0,213):\n",
        "        p=np.isin(d[i,:],j)\n",
        "        x4=any(p)\n",
        "        if(x4==True):\n",
        "            c1[j]=c[i,:].max();"
      ],
      "execution_count": null,
      "outputs": []
    },
    {
      "cell_type": "code",
      "metadata": {
        "id": "JZpoIAZ1yzZS",
        "colab": {
          "base_uri": "https://localhost:8080/",
          "height": 52
        },
        "outputId": "cf1b3999-eb85-4d46-c6c6-136abdd03b99"
      },
      "source": [
        "c1"
      ],
      "execution_count": null,
      "outputs": [
        {
          "output_type": "execute_result",
          "data": {
            "text/plain": [
              "array([   0.        , 1034.73619827, 1010.89267482, 1039.22326764,\n",
              "       1034.58155793, 1028.20280101, 1031.17942183, 1029.27790222])"
            ]
          },
          "metadata": {
            "tags": []
          },
          "execution_count": 45
        }
      ]
    },
    {
      "cell_type": "code",
      "metadata": {
        "id": "VnUBeVtSL9YH"
      },
      "source": [
        "a=0;\n",
        "s=np.zeros((213,213))\n",
        "for i in range(0,213):\n",
        "    for j in range(0,213):\n",
        "        if(c[i,j]==0):\n",
        "            continue\n",
        "        z=int(d[i,j])\n",
        "        f=c1[z]\n",
        "        f1=(a+f)/2\n",
        "        if(c[i,j]>0 and c[i,j]<=f1 ):\n",
        "            s[i,j]=1-(2*(((c[i,j]-a)/(f-a))**2))\n",
        "        if(c[i,j]>f1 and c[i,j]<=f):\n",
        "            s[i,j]=2*(((c[i,j]-f)/(f-a))**2)"
      ],
      "execution_count": null,
      "outputs": []
    },
    {
      "cell_type": "code",
      "metadata": {
        "id": "4UA-qlC6MDyI"
      },
      "source": [
        "D = np.diag(s.sum(1))\n",
        "L = D - s\n",
        "x_data1=x_data1.reshape(100*100,213)\n",
        "x_data1=x_data1.transpose()\n",
        "\n"
      ],
      "execution_count": null,
      "outputs": []
    },
    {
      "cell_type": "code",
      "metadata": {
        "id": "YBEheMhvqqkw",
        "colab": {
          "base_uri": "https://localhost:8080/",
          "height": 34
        },
        "outputId": "6137cc8a-bdfc-4a95-a43e-b7d8e5a321ed"
      },
      "source": [
        "print(x_data1.shape)\n",
        "# plt.imshow(x_data[:,:,1])\n",
        "# x_data=x_data.reshape(256*256,213)\n",
        "# x_data=x_data.transpose()"
      ],
      "execution_count": null,
      "outputs": [
        {
          "output_type": "stream",
          "text": [
            "(213, 10000)\n"
          ],
          "name": "stdout"
        }
      ]
    },
    {
      "cell_type": "code",
      "metadata": {
        "id": "CP2MURghMsH0"
      },
      "source": [
        "from sklearn.decomposition import PCA\n",
        "pca = PCA(n_components=0.99)\n",
        "          #, svd_solver='full')\n",
        "x_new = pca.fit_transform(x_data1)"
      ],
      "execution_count": null,
      "outputs": []
    },
    {
      "cell_type": "code",
      "metadata": {
        "id": "hPyyJEf0w24B",
        "colab": {
          "base_uri": "https://localhost:8080/",
          "height": 34
        },
        "outputId": "be69250f-ef98-4b03-94d5-ac9f4f46f0c9"
      },
      "source": [
        "x_new.shape"
      ],
      "execution_count": null,
      "outputs": [
        {
          "output_type": "execute_result",
          "data": {
            "text/plain": [
              "(213, 132)"
            ]
          },
          "metadata": {
            "tags": []
          },
          "execution_count": 50
        }
      ]
    },
    {
      "cell_type": "code",
      "metadata": {
        "id": "H-tC8WclMv7N"
      },
      "source": [
        "# x_data2=x_data.reshape(213,256,256)\n",
        "# plt.imshow(x_data2[1,:,:])"
      ],
      "execution_count": null,
      "outputs": []
    },
    {
      "cell_type": "code",
      "metadata": {
        "id": "V98mWsJXM2vh"
      },
      "source": [
        ""
      ],
      "execution_count": null,
      "outputs": []
    },
    {
      "cell_type": "code",
      "metadata": {
        "id": "GSUWF3djMWiq",
        "colab": {
          "base_uri": "https://localhost:8080/",
          "height": 425
        },
        "outputId": "bc62431a-7450-4933-f4d8-5e2e78024742"
      },
      "source": [
        "n_components=132\n",
        "def eigh_robust(a, b=None, eigvals=None, eigvals_only=False,\n",
        "                overwrite_a=False, overwrite_b=False,\n",
        "                turbo=True, check_finite=True):\n",
        "    kwargs = dict(eigvals=eigvals, eigvals_only=eigvals_only,\n",
        "                  turbo=turbo, check_finite=check_finite,\n",
        "                  overwrite_a=overwrite_a, overwrite_b=overwrite_b)\n",
        "    print(kwargs)\n",
        "    # Check for easy case first:\n",
        "    if b is None:\n",
        "        return linalg.eigh(a, **kwargs)\n",
        "\n",
        "    # Compute eigendecomposition of b\n",
        "    kwargs_b = dict(turbo=turbo, check_finite=check_finite,\n",
        "                    overwrite_a=overwrite_b)  # b is a for this operation\n",
        "    S, U = linalg.eigh(b, **kwargs_b)\n",
        "\n",
        "    # Combine a and b on left hand side via decomposition of b\n",
        "    S[S <= 0] = np.inf\n",
        "    Sinv = 1. / np.sqrt(S)\n",
        "    W = Sinv[:, None] * np.dot(U.T, np.dot(a, U)) * Sinv\n",
        "    output = linalg.eigh(W, **kwargs)\n",
        "\n",
        "    if eigvals_only:\n",
        "        return output\n",
        "    else:\n",
        "        evals, evecs = output\n",
        "        return evals, np.dot(U, Sinv[:, None] * evecs)\n",
        "evals, evecs = eigh_robust(np.dot(x_new.T, np.dot(L, x_new)),\n",
        "                                   np.dot(x_new.transpose(), np.dot(D, x_new)),\n",
        "                                   eigvals=(0, n_components - 1))\n",
        "print(evals)"
      ],
      "execution_count": null,
      "outputs": [
        {
          "output_type": "stream",
          "text": [
            "{'eigvals': (0, 131), 'eigvals_only': False, 'turbo': True, 'check_finite': True, 'overwrite_a': False, 'overwrite_b': False}\n",
            "[0.01354912 0.01805361 0.0293417  0.04359935 0.05801703 0.08313009\n",
            " 0.09989951 0.11831241 0.13053954 0.14479704 0.14873856 0.17606246\n",
            " 0.19528092 0.2017872  0.2136721  0.22083764 0.23833214 0.24959759\n",
            " 0.25507078 0.25719168 0.26887537 0.28062846 0.29376572 0.29959729\n",
            " 0.31100466 0.31748334 0.32560531 0.34349607 0.36023039 0.36309319\n",
            " 0.38187439 0.39053004 0.39498053 0.4041804  0.40931804 0.41661424\n",
            " 0.42018385 0.42226098 0.42727279 0.44101117 0.44665756 0.45914194\n",
            " 0.47586632 0.48433093 0.51216622 0.521433   0.5352679  0.53998884\n",
            " 0.55113037 0.55818523 0.5703787  0.57509171 0.58607875 0.59449091\n",
            " 0.6004503  0.60799352 0.61713458 0.65260717 0.67180407 0.68510012\n",
            " 0.69442488 0.7025106  0.73465659 0.77224734 0.80286021 0.83797267\n",
            " 0.87138839 0.93644819 0.99340176 1.04769727 1.05206897 1.09843542\n",
            " 1.10395854 1.11121125 1.11715972 1.12463041 1.12731139 1.1442436\n",
            " 1.14488044 1.15844981 1.15958027 1.16168781 1.16778514 1.17278275\n",
            " 1.19071055 1.19832645 1.20095324 1.2039961  1.20796173 1.20936162\n",
            " 1.21866893 1.22013762 1.22329748 1.23369265 1.23683519 1.24303408\n",
            " 1.24672545 1.24928618 1.25236504 1.25790042 1.26541537 1.26617939\n",
            " 1.27214772 1.27417623 1.27759952 1.28096224 1.28962005 1.29187001\n",
            " 1.29905443 1.30162499 1.30710877 1.31204533 1.31718249 1.32504083\n",
            " 1.32695305 1.33972765 1.34195987 1.35184291 1.35963218 1.36168606\n",
            " 1.37501563 1.37705565 1.38421202 1.39675618 1.40976755 1.41401333\n",
            " 1.42341963 1.43134403 1.45103807 1.47886929 1.4942622  1.68679711]\n"
          ],
          "name": "stdout"
        }
      ]
    },
    {
      "cell_type": "code",
      "metadata": {
        "id": "6kqQ0b6Uw8Dm",
        "colab": {
          "base_uri": "https://localhost:8080/",
          "height": 34
        },
        "outputId": "901c81ca-d709-4313-f223-c02c21668707"
      },
      "source": [
        "c=np.linalg.pinv(evecs.transpose())\n",
        "c.shape"
      ],
      "execution_count": null,
      "outputs": [
        {
          "output_type": "execute_result",
          "data": {
            "text/plain": [
              "(132, 132)"
            ]
          },
          "metadata": {
            "tags": []
          },
          "execution_count": 52
        }
      ]
    },
    {
      "cell_type": "code",
      "metadata": {
        "id": "EzzdspslxQVc",
        "colab": {
          "base_uri": "https://localhost:8080/",
          "height": 34
        },
        "outputId": "8e2bfbe6-41d8-40af-db13-97940c38d0dc"
      },
      "source": [
        "x_new.shape"
      ],
      "execution_count": null,
      "outputs": [
        {
          "output_type": "execute_result",
          "data": {
            "text/plain": [
              "(213, 132)"
            ]
          },
          "metadata": {
            "tags": []
          },
          "execution_count": 53
        }
      ]
    },
    {
      "cell_type": "code",
      "metadata": {
        "id": "XHf3iB5pMa55",
        "colab": {
          "base_uri": "https://localhost:8080/",
          "height": 70
        },
        "outputId": "c41ea796-e377-4b60-868f-9381f01f41a0"
      },
      "source": [
        "x_new1=np.dot(evecs.transpose(),x_new.transpose());\n",
        "print(x_new.shape)\n",
        "print(evecs.transpose().shape)\n",
        "x_new1=x_new1.transpose();\n",
        "print(x_new1.shape)\n"
      ],
      "execution_count": null,
      "outputs": [
        {
          "output_type": "stream",
          "text": [
            "(213, 132)\n",
            "(132, 132)\n",
            "(213, 132)\n"
          ],
          "name": "stdout"
        }
      ]
    },
    {
      "cell_type": "code",
      "metadata": {
        "id": "3Ou59QgjxmWe",
        "colab": {
          "base_uri": "https://localhost:8080/",
          "height": 34
        },
        "outputId": "e2df6ed1-c2cc-40c2-a34c-438a09504127"
      },
      "source": [
        "x_new1.shape"
      ],
      "execution_count": null,
      "outputs": [
        {
          "output_type": "execute_result",
          "data": {
            "text/plain": [
              "(213, 132)"
            ]
          },
          "metadata": {
            "tags": []
          },
          "execution_count": 55
        }
      ]
    },
    {
      "cell_type": "code",
      "metadata": {
        "id": "20QJeUX_rSZA",
        "colab": {
          "base_uri": "https://localhost:8080/",
          "height": 70
        },
        "outputId": "4cb54a07-b0dc-4b72-aa7f-08d73c994550"
      },
      "source": [
        "x_new2=x_new1\n",
        "print(x_new2.shape)\n",
        "x_new3=np.dot(x_new2,c.transpose())\n",
        "print(x_new3.shape)\n",
        "x_new4=pca.inverse_transform(x_new3)\n",
        "print(x_new4.shape)\n"
      ],
      "execution_count": null,
      "outputs": [
        {
          "output_type": "stream",
          "text": [
            "(213, 132)\n",
            "(213, 132)\n",
            "(213, 10000)\n"
          ],
          "name": "stdout"
        }
      ]
    },
    {
      "cell_type": "code",
      "metadata": {
        "id": "pZ40X-2hzXjb",
        "colab": {
          "base_uri": "https://localhost:8080/",
          "height": 285
        },
        "outputId": "bfaf268c-f38d-42b8-dbbd-9c28ec97fb9e"
      },
      "source": [
        "x_new5=x_new4.reshape(213,100,100)\n",
        "plt.imshow(x_new5[50,:,:],cmap='gray')\n",
        "plt.axis('off')"
      ],
      "execution_count": null,
      "outputs": [
        {
          "output_type": "execute_result",
          "data": {
            "text/plain": [
              "(-0.5, 99.5, 99.5, -0.5)"
            ]
          },
          "metadata": {
            "tags": []
          },
          "execution_count": 57
        },
        {
          "output_type": "display_data",
          "data": {
            "image/png": "[encoded data removed]",
            "text/plain": [
              "<Figure size 432x288 with 1 Axes>"
            ]
          },
          "metadata": {
            "tags": []
          }
        }
      ]
    },
    {
      "cell_type": "code",
      "metadata": {
        "id": "GcQljNG6Mdcg",
        "colab": {
          "base_uri": "https://localhost:8080/",
          "height": 89
        },
        "outputId": "a97ccfa4-4ee6-4b7f-a585-6ad5b5367e5c"
      },
      "source": [
        "X_train, X_test, y_train, y_test = train_test_split(x_new1, y_data, test_size = 0.2, random_state = None)\n",
        "\n",
        "from sklearn.neighbors import KNeighborsClassifier\n",
        "classifier = KNeighborsClassifier(n_neighbors = 1)\n",
        "classifier.fit(X_train, y_train)\n",
        "y_pred = classifier.predict(X_test)\n",
        "from sklearn.metrics import accuracy_score\n",
        "\n",
        "print(accuracy_score(y_test, y_pred))#ac"
      ],
      "execution_count": null,
      "outputs": [
        {
          "output_type": "stream",
          "text": [
            "1.0\n"
          ],
          "name": "stdout"
        },
        {
          "output_type": "stream",
          "text": [
            "/usr/local/lib/python3.6/dist-packages/ipykernel_launcher.py:5: DataConversionWarning: A column-vector y was passed when a 1d array was expected. Please change the shape of y to (n_samples, ), for example using ravel().\n",
            "  \"\"\"\n"
          ],
          "name": "stderr"
        }
      ]
    },
    {
      "cell_type": "code",
      "metadata": {
        "id": "K-bQOfE4ywkC"
      },
      "source": [
        ""
      ],
      "execution_count": null,
      "outputs": []
    }
  ]
}